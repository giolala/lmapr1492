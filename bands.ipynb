{
 "cells": [
  {
   "cell_type": "code",
   "execution_count": 7,
   "metadata": {},
   "outputs": [
    {
     "name": "stdout",
     "output_type": "stream",
     "text": [
      "{'direct': False, 'energy': 1.9258, 'transition': '\\\\Gamma-F'}\n",
      "2.8670999999999998\n",
      "{'band_index': defaultdict(<class 'list'>, {<Spin.up: 1>: [14]}), 'kpoint_index': [95, 96], 'kpoint': <pymatgen.electronic_structure.bandstructure.Kpoint object at 0x7f35f98f84e0>, 'energy': 3.7485, 'projections': {<Spin.up: 1>: array([[0.0028, 0.0107, 0.0006, 0.0006],\n",
      "       [0.    , 0.    , 0.0008, 0.0008],\n",
      "       [0.    , 0.    , 0.0173, 0.0173],\n",
      "       [0.    , 0.    , 0.    , 0.    ],\n",
      "       [0.    , 0.    , 0.    , 0.    ],\n",
      "       [0.    , 0.1766, 0.0038, 0.0038],\n",
      "       [0.    , 0.1658, 0.0059, 0.0059],\n",
      "       [0.    , 0.    , 0.    , 0.    ],\n",
      "       [0.    , 0.1238, 0.008 , 0.008 ]])}}\n",
      "{'band_index': defaultdict(<class 'list'>, {<Spin.up: 1>: [12, 13]}), 'kpoint_index': [0, 62, 63], 'kpoint': <pymatgen.electronic_structure.bandstructure.Kpoint object at 0x7f35f97c8978>, 'energy': 1.8227, 'projections': {<Spin.up: 1>: array([[0.000e+00, 0.000e+00, 0.000e+00, 0.000e+00],\n",
      "       [0.000e+00, 0.000e+00, 0.000e+00, 0.000e+00],\n",
      "       [0.000e+00, 0.000e+00, 0.000e+00, 0.000e+00],\n",
      "       [2.200e-03, 5.570e-02, 2.898e-01, 2.898e-01],\n",
      "       [0.000e+00, 0.000e+00, 0.000e+00, 0.000e+00],\n",
      "       [0.000e+00, 0.000e+00, 0.000e+00, 0.000e+00],\n",
      "       [0.000e+00, 0.000e+00, 0.000e+00, 0.000e+00],\n",
      "       [0.000e+00, 0.000e+00, 1.000e-04, 1.000e-04],\n",
      "       [0.000e+00, 0.000e+00, 0.000e+00, 0.000e+00]])}}\n"
     ]
    }
   ],
   "source": [
    "from pymatgen.ext.matproj import MPRester\n",
    "from pymatgen.io.cif import CifWriter\n",
    "import numpy as np\n",
    "from pymatgen.core.operations import SymmOp\n",
    "from pymatgen.symmetry.analyzer import SpacegroupAnalyzer\n",
    "with MPRester(\"AaCuMl5yxEVFLZ8n\") as m:\n",
    "\n",
    "    # Structure for material id\n",
    "    structure = m.get_structure_by_material_id(\"mp-8584\")\n",
    "\n",
    "    # Dos for material id\n",
    "    dos = m.get_dos_by_material_id(\"mp-8584\")\n",
    "\n",
    "    # Bandstructure for material id\n",
    "    bandstructure = m.get_bandstructure_by_material_id(\"mp-8584\")\n",
    "    \n",
    "print(bandstructure.get_band_gap())\n",
    "\n",
    "print(bandstructure.get_direct_band_gap()) \n",
    "\n",
    "print(bandstructure.get_cbm())\n",
    "\n",
    "print(bandstructure.get_vbm())"
   ]
  },
  {
   "cell_type": "code",
   "execution_count": null,
   "metadata": {},
   "outputs": [],
   "source": []
  }
 ],
 "metadata": {
  "kernelspec": {
   "display_name": "Python 3",
   "language": "python",
   "name": "python3"
  },
  "language_info": {
   "codemirror_mode": {
    "name": "ipython",
    "version": 3
   },
   "file_extension": ".py",
   "mimetype": "text/x-python",
   "name": "python",
   "nbconvert_exporter": "python",
   "pygments_lexer": "ipython3",
   "version": "3.6.8"
  }
 },
 "nbformat": 4,
 "nbformat_minor": 2
}
