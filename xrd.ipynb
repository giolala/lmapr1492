{
 "cells": [
  {
   "cell_type": "code",
   "execution_count": 27,
   "metadata": {},
   "outputs": [
    {
     "name": "stdout",
     "output_type": "stream",
     "text": [
      "DiffractionPattern\n",
      "$2\\Theta$: [12.62649706 25.33893434 25.40964165 26.39758134 30.28985216 32.93365434\n",
      " 38.52449271 39.21224437 42.73481698 43.99196411 45.95261886 50.37460336\n",
      " 51.44766991 51.48640455 52.0358897  52.18946004 54.34366771 54.45546327\n",
      " 56.03144063 59.88221944 60.37991585 63.00327418 63.10524511 66.70942772\n",
      " 67.67868091 69.07149781 69.96059218 70.45148176 70.58004492 72.40063435\n",
      " 72.49597343 73.84868013 77.37481324 77.66167714 80.01578806 80.10807341\n",
      " 80.89108737 82.29183316 82.53637503 82.56693306 83.40608832 84.30472942\n",
      " 85.60454692 86.46979286 88.8419709 ]\n",
      "Intensity: [5.68269206e+01 2.28778721e+01 5.36188326e-01 1.03951527e+00\n",
      " 1.00000000e+02 7.07103478e+00 8.24394610e-01 1.53536027e+01\n",
      " 3.68642999e+01 3.61816134e+01 1.41929308e+01 4.89368612e-01\n",
      " 3.44249358e+00 5.55973077e-01 1.96977451e-01 6.26949430e+00\n",
      " 1.89665996e+01 7.77249482e+00 1.64708059e+00 1.47542210e+00\n",
      " 4.40433139e+00 1.14914941e+01 2.88793308e-01 1.74447416e+00\n",
      " 3.46539626e-01 1.84617770e-01 2.81691751e+00 1.50977757e-01\n",
      " 1.50532468e+01 1.59466252e+01 3.36015850e+00 1.50345944e+00\n",
      " 5.17293529e+00 4.33068166e+00 1.15818713e+01 1.57305052e-01\n",
      " 6.01772390e+00 2.75142239e+00 5.21123772e-02 1.12249126e-01\n",
      " 5.82321548e+00 1.82902943e-01 1.96732045e-01 1.12941940e-01\n",
      " 4.19510765e+00]\n",
      "--------------------------------------------------\n",
      "Voici les valeurs trouvées des 3 premiers pics\n",
      "Le premier pic prend les valeurs suivantes: \n",
      "2teta = 12.637 \n",
      "Amplitude: 56.834 \n",
      "d: 7.005 \n",
      "hkl(0 0 0 3)\n",
      "\n",
      "Le deuxième pic prend les valeurs suivantes: \n",
      "2teta = 25.36 \n",
      "Amplitude: 22.879 \n",
      "d: 3.512 \n",
      "hkl(1 0 -1 1)\n",
      "\n",
      "Le troisième pic prend les valeurs suivantes: \n",
      "2teta = 26.419 \n",
      "Amplitude: 1.04 \n",
      "d: 3.374 \n",
      "hkl(1 0 -1 2)\n"
     ]
    }
   ],
   "source": [
    "from pymatgen.ext.matproj import MPRester\n",
    "from pymatgen.io.cif import CifWriter\n",
    "import numpy as np\n",
    "from pymatgen.core.operations import SymmOp\n",
    "from pymatgen.symmetry.analyzer import SpacegroupAnalyzer\n",
    "\n",
    "from pymatgen.analysis.diffraction.xrd import XRDCalculator\n",
    "from pymatgen.analysis.diffraction.core import DiffractionPattern\n",
    "\n",
    "with MPRester(\"AaCuMl5yxEVFLZ8n\") as m:\n",
    "\n",
    "    # Structure for material id\n",
    "    structure = m.get_structure_by_material_id(\"mp-8584\")\n",
    "\n",
    "    # Dos for material id\n",
    "    dos = m.get_dos_by_material_id(\"mp-8584\")\n",
    "\n",
    "    # Bandstructure for material id\n",
    "    bandstructure = m.get_bandstructure_by_material_id(\"mp-8584\")\n",
    "    \n",
    "a=XRDCalculator(1.54060,0,debye_waller_factors=None)\n",
    "v=a.get_pattern(structure,scaled=True, two_theta_range=(0, 90))\n",
    "print(a.get_pattern(structure,scaled=True, two_theta_range=(0, 90)))\n",
    "print(\"--------------------------------------------------\")\n",
    "print(\"Voici les valeurs trouvées des 3 premiers pics\")\n",
    "print(\"Le premier pic prend les valeurs suivantes: \\n2teta = 12.637 \\nAmplitude: 56.834 \\nd: 7.005 \\nhkl(0 0 0 3)\\n\")\n",
    "print(\"Le deuxième pic prend les valeurs suivantes: \\n2teta = 25.36 \\nAmplitude: 22.879 \\nd: 3.512 \\nhkl(1 0 -1 1)\\n\")\n",
    "print(\"Le troisième pic prend les valeurs suivantes: \\n2teta = 26.419 \\nAmplitude: 1.04 \\nd: 3.374 \\nhkl(1 0 -1 2)\")\n"
   ]
  },
  {
   "cell_type": "code",
   "execution_count": null,
   "metadata": {},
   "outputs": [],
   "source": []
  }
 ],
 "metadata": {
  "kernelspec": {
   "display_name": "Python 3",
   "language": "python",
   "name": "python3"
  },
  "language_info": {
   "codemirror_mode": {
    "name": "ipython",
    "version": 3
   },
   "file_extension": ".py",
   "mimetype": "text/x-python",
   "name": "python",
   "nbconvert_exporter": "python",
   "pygments_lexer": "ipython3",
   "version": "3.6.8"
  }
 },
 "nbformat": 4,
 "nbformat_minor": 2
}
