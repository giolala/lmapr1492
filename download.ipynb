{
 "cells": [
  {
   "cell_type": "markdown",
   "metadata": {},
   "source": [
    "# TASK 4  \n",
    "#### Download file \"symmetrized\", format \".cif\" from \"https://materialsproject.org/materials/mp-1022/#\""
   ]
  },
  {
   "cell_type": "code",
   "execution_count": 1,
   "metadata": {
    "scrolled": true
   },
   "outputs": [
    {
     "name": "stdout",
     "output_type": "stream",
     "text": [
      "Full Formula (K2 S1)\n",
      "Reduced Formula: K2S\n",
      "abc   :   5.278264   5.278264   5.278264\n",
      "angles:  60.000000  60.000000  60.000000\n",
      "Sites (3)\n",
      "  #  SP       a     b     c    magmom\n",
      "---  ----  ----  ----  ----  --------\n",
      "  0  K     0.25  0.25  0.25         0\n",
      "  1  K     0.75  0.75  0.75         0\n",
      "  2  S     0     0     0           -0\n"
     ]
    }
   ],
   "source": [
    "\n",
    "from pymatgen.ext.matproj import MPRester\n",
    "from pymatgen.io.cif import CifWriter\n",
    "with MPRester(\"AaCuMl5yxEVFLZ8n\") as m:\n",
    "    # Get information on material structure using the  \"Material Project\" id \"mp-1022\"\n",
    "    structure = m.get_structure_by_material_id(\"mp-1022\")\n",
    "\n",
    "print(structure)\n",
    "w = CifWriter(structure)\n",
    "\n",
    "# Create the working .cif file of K2S material\n",
    "w.write_file('SrCl2_structure.cif')"
   ]
  }
 ],
 "metadata": {
  "kernelspec": {
   "display_name": "Python 3",
   "language": "python",
   "name": "python3"
  },
  "language_info": {
   "codemirror_mode": {
    "name": "ipython",
    "version": 3
   },
   "file_extension": ".py",
   "mimetype": "text/x-python",
   "name": "python",
   "nbconvert_exporter": "python",
   "pygments_lexer": "ipython3",
   "version": "3.6.8"
  }
 },
 "nbformat": 4,
 "nbformat_minor": 2
}
