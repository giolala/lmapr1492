{
 "cells": [
  {
   "cell_type": "code",
   "execution_count": 23,
   "metadata": {},
   "outputs": [
    {
     "name": "stdout",
     "output_type": "stream",
     "text": [
      "Lattice: \n",
      "  rhombohedral\n",
      "----------------------\n",
      "Crystal system: \n",
      "  trigonal\n",
      "----------------------\n",
      "Primitive: \n",
      " Full Formula (Na1 Er1 Se2)\n",
      "Reduced Formula: NaErSe2\n",
      "abc   :   7.396615   7.396615   7.396615\n",
      "angles:  32.288018  32.288018  32.288018\n",
      "Sites (4)\n",
      "  #  SP          a        b        c\n",
      "---  ----  -------  -------  -------\n",
      "  0  Na    0.5      0.5      0.5\n",
      "  1  Er    0        0        0\n",
      "  2  Se    0.25752  0.25752  0.25752\n",
      "  3  Se    0.74248  0.74248  0.74248\n",
      "----------------------\n",
      "Point group : \n",
      " -3m\n",
      "Primitive cell: \n",
      "  Full Formula (Na1 Er1 Se2)\n",
      "Reduced Formula: NaErSe2\n",
      "abc   :   4.113295   4.113295   7.396615\n",
      "angles:  73.855991  73.855991  60.000000\n",
      "Sites (4)\n",
      "  #  SP          a        b         c\n",
      "---  ----  -------  -------  --------\n",
      "  0  Na    0.5      0.5      0.5\n",
      "  1  Se    0.25752  0.25752  0.227441\n",
      "  2  Se    0.74248  0.74248  0.772559\n",
      "  3  Er    0        1        0\n",
      "----------------------\n",
      "Reciprocal mesh: \n",
      " [(array([0., 0., 0.]), 1), (array([0.1, 0. , 0. ]), 6), (array([0.2, 0. , 0. ]), 6), (array([0.3, 0. , 0. ]), 6), (array([0.4, 0. , 0. ]), 6), (array([0.5, 0. , 0. ]), 3), (array([0.1, 0.1, 0. ]), 6), (array([0.2, 0.1, 0. ]), 12), (array([0.3, 0.1, 0. ]), 12), (array([0.4, 0.1, 0. ]), 12), (array([0.5, 0.1, 0. ]), 12), (array([-0.4,  0.1,  0. ]), 12), (array([-0.3,  0.1,  0. ]), 12), (array([-0.2,  0.1,  0. ]), 12), (array([-0.1,  0.1,  0. ]), 6), (array([0.2, 0.2, 0. ]), 6), (array([0.3, 0.2, 0. ]), 12), (array([0.4, 0.2, 0. ]), 12), (array([0.5, 0.2, 0. ]), 12), (array([-0.4,  0.2,  0. ]), 12), (array([-0.3,  0.2,  0. ]), 12), (array([-0.2,  0.2,  0. ]), 6), (array([0.3, 0.3, 0. ]), 6), (array([0.4, 0.3, 0. ]), 12), (array([0.5, 0.3, 0. ]), 12), (array([-0.4,  0.3,  0. ]), 12), (array([-0.3,  0.3,  0. ]), 6), (array([0.4, 0.4, 0. ]), 6), (array([0.5, 0.4, 0. ]), 12), (array([-0.4,  0.4,  0. ]), 6), (array([0.5, 0.5, 0. ]), 3), (array([0.1, 0.1, 0.1]), 2), (array([0.2, 0.1, 0.1]), 6), (array([0.3, 0.1, 0.1]), 6), (array([0.4, 0.1, 0.1]), 6), (array([0.5, 0.1, 0.1]), 6), (array([-0.4,  0.1,  0.1]), 6), (array([-0.3,  0.1,  0.1]), 6), (array([-0.2,  0.1,  0.1]), 6), (array([-0.1,  0.1,  0.1]), 6), (array([0.2, 0.2, 0.1]), 6), (array([0.3, 0.2, 0.1]), 12), (array([0.4, 0.2, 0.1]), 12), (array([0.5, 0.2, 0.1]), 12), (array([-0.4,  0.2,  0.1]), 12), (array([-0.3,  0.2,  0.1]), 12), (array([-0.2,  0.2,  0.1]), 12), (array([-0.1,  0.2,  0.1]), 12), (array([0.3, 0.3, 0.1]), 6), (array([0.4, 0.3, 0.1]), 12), (array([0.5, 0.3, 0.1]), 12), (array([-0.4,  0.3,  0.1]), 12), (array([-0.3,  0.3,  0.1]), 12), (array([-0.2,  0.3,  0.1]), 12), (array([-0.1,  0.3,  0.1]), 12), (array([0.4, 0.4, 0.1]), 6), (array([0.5, 0.4, 0.1]), 12), (array([-0.4,  0.4,  0.1]), 12), (array([-0.3,  0.4,  0.1]), 12), (array([-0.2,  0.4,  0.1]), 12), (array([-0.1,  0.4,  0.1]), 12), (array([0.5, 0.5, 0.1]), 6), (array([-0.4,  0.5,  0.1]), 12), (array([-0.3,  0.5,  0.1]), 12), (array([-0.2,  0.5,  0.1]), 12), (array([-0.1,  0.5,  0.1]), 6), (array([-0.4, -0.4,  0.1]), 6), (array([-0.3, -0.4,  0.1]), 12), (array([-0.2, -0.4,  0.1]), 12), (array([-0.3, -0.3,  0.1]), 6), (array([-0.2, -0.3,  0.1]), 12), (array([-0.2, -0.2,  0.1]), 6), (array([0.2, 0.2, 0.2]), 2), (array([0.3, 0.2, 0.2]), 6), (array([0.4, 0.2, 0.2]), 6), (array([0.5, 0.2, 0.2]), 6), (array([-0.4,  0.2,  0.2]), 6), (array([-0.3,  0.2,  0.2]), 6), (array([-0.2,  0.2,  0.2]), 6), (array([0.3, 0.3, 0.2]), 6), (array([0.4, 0.3, 0.2]), 12), (array([0.5, 0.3, 0.2]), 12), (array([-0.4,  0.3,  0.2]), 12), (array([-0.3,  0.3,  0.2]), 12), (array([-0.2,  0.3,  0.2]), 12), (array([0.4, 0.4, 0.2]), 6), (array([0.5, 0.4, 0.2]), 12), (array([-0.4,  0.4,  0.2]), 12), (array([-0.3,  0.4,  0.2]), 12), (array([-0.2,  0.4,  0.2]), 12), (array([0.5, 0.5, 0.2]), 6), (array([-0.4,  0.5,  0.2]), 12), (array([-0.3,  0.5,  0.2]), 12), (array([-0.2,  0.5,  0.2]), 6), (array([-0.4, -0.4,  0.2]), 6), (array([-0.3, -0.4,  0.2]), 12), (array([-0.3, -0.3,  0.2]), 6), (array([0.3, 0.3, 0.3]), 2), (array([0.4, 0.3, 0.3]), 6), (array([0.5, 0.3, 0.3]), 6), (array([-0.4,  0.3,  0.3]), 6), (array([-0.3,  0.3,  0.3]), 6), (array([0.4, 0.4, 0.3]), 6), (array([0.5, 0.4, 0.3]), 12), (array([-0.4,  0.4,  0.3]), 12), (array([-0.3,  0.4,  0.3]), 12), (array([0.5, 0.5, 0.3]), 6), (array([-0.4,  0.5,  0.3]), 12), (array([-0.3,  0.5,  0.3]), 6), (array([-0.4, -0.4,  0.3]), 6), (array([0.4, 0.4, 0.4]), 2), (array([0.5, 0.4, 0.4]), 6), (array([-0.4,  0.4,  0.4]), 6), (array([0.5, 0.5, 0.4]), 6), (array([-0.4,  0.5,  0.4]), 6), (array([0.5, 0.5, 0.5]), 1)]\n",
      "----------------------\n"
     ]
    }
   ],
   "source": [
    "from pymatgen.ext.matproj import MPRester\n",
    "from pymatgen.io.cif import CifWriter\n",
    "import numpy as np\n",
    "from pymatgen.symmetry.analyzer import SpacegroupAnalyzer\n",
    "with MPRester(\"AaCuMl5yxEVFLZ8n\") as m:\n",
    "\n",
    "    # Structure for material id\n",
    "    structure = m.get_structure_by_material_id(\"mp-8584\")\n",
    "\n",
    "    # Dos for material id\n",
    "    dos = m.get_dos_by_material_id(\"mp-8584\")\n",
    "\n",
    "    # Bandstructure for material id\n",
    "    bandstructure = m.get_bandstructure_by_material_id(\"mp-8584\")\n",
    "    \n",
    "\n",
    "a=SpacegroupAnalyzer(structure)\n",
    "print(\"Lattice: \\n \", a.get_lattice_type())\n",
    "print(\"----------------------\")\n",
    "print(\"Crystal system: \\n \" , a.get_crystal_system())\n",
    "print(\"----------------------\")\n",
    "print(\"Primitive: \\n\",a.get_primitive_standard_structure())\n",
    "print(\"----------------------\")\n",
    "print(\"Point group : \\n\", a.get_point_group_symbol())\n",
    "\n",
    "\n",
    "\n",
    "      \n",
    "print(\"Primitive cell: \\n \", a.find_primitive())\n",
    "print(\"----------------------\")\n",
    "\n",
    "print(\"Reciprocal mesh: \\n\", a.get_ir_reciprocal_mesh())\n",
    "print(\"----------------------\")\n",
    "#print(\"----------------------\")\n",
    "\n",
    "#w = CifWriter(structure)\n",
    "#w.write_file('mystructure.cif')"
   ]
  },
  {
   "cell_type": "code",
   "execution_count": null,
   "metadata": {},
   "outputs": [],
   "source": []
  },
  {
   "cell_type": "code",
   "execution_count": null,
   "metadata": {},
   "outputs": [],
   "source": []
  }
 ],
 "metadata": {
  "kernelspec": {
   "display_name": "Python 3",
   "language": "python",
   "name": "python3"
  },
  "language_info": {
   "codemirror_mode": {
    "name": "ipython",
    "version": 3
   },
   "file_extension": ".py",
   "mimetype": "text/x-python",
   "name": "python",
   "nbconvert_exporter": "python",
   "pygments_lexer": "ipython3",
   "version": "3.6.8"
  }
 },
 "nbformat": 4,
 "nbformat_minor": 2
}
