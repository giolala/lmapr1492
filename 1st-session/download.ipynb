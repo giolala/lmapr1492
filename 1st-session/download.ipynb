{
 "cells": [
  {
   "cell_type": "code",
   "execution_count": 4,
   "metadata": {},
   "outputs": [
    {
     "name": "stdout",
     "output_type": "stream",
     "text": [
      "Full Formula (Na1 Er1 Se2)\n",
      "Reduced Formula: NaErSe2\n",
      "abc   :   7.396615   7.396615   7.396615\n",
      "angles:  32.288018  32.288018  32.288018\n",
      "Sites (4)\n",
      "  #  SP          a        b        c    magmom\n",
      "---  ----  -------  -------  -------  --------\n",
      "  0  Na    0.5      0.5      0.5             0\n",
      "  1  Se    0.25752  0.25752  0.25752         0\n",
      "  2  Se    0.74248  0.74248  0.74248         0\n",
      "  3  Er    0        0        0               0\n",
      "Complete DOS for Full Formula (Na1 Er1 Se2)\n",
      "Reduced Formula: NaErSe2\n",
      "abc   :   4.118235   4.118235   7.388402\n",
      "angles:  73.817620  73.817620  60.000014\n",
      "Sites (4)\n",
      "  #  SP           a         b        c\n",
      "---  ----  --------  --------  -------\n",
      "  0  Na    0.5       0.5       0.5\n",
      "  1  Er    0         0         0\n",
      "  2  Se    0.257757  0.257757  0.22673\n",
      "  3  Se    0.742243  0.742243  0.77327\n"
     ]
    }
   ],
   "source": [
    "from pymatgen.ext.matproj import MPRester\n",
    "from pymatgen.io.cif import CifWriter\n",
    "with MPRester(\"AaCuMl5yxEVFLZ8n\") as m:\n",
    "\n",
    "    # Structure for material id\n",
    "    structure = m.get_structure_by_material_id(\"mp-8584\")\n",
    "\n",
    "    # Dos for material id\n",
    "    dos = m.get_dos_by_material_id(\"mp-8584\")\n",
    "\n",
    "    # Bandstructure for material id\n",
    "    bandstructure = m.get_bandstructure_by_material_id(\"mp-8584\")\n",
    "print(structure)\n",
    "print(dos)\n",
    "w = CifWriter(structure)\n",
    "w.write_file('mystructure.cif')"
   ]
  },
  {
   "cell_type": "code",
   "execution_count": null,
   "metadata": {},
   "outputs": [],
   "source": []
  },
  {
   "cell_type": "code",
   "execution_count": null,
   "metadata": {},
   "outputs": [],
   "source": []
  },
  {
   "cell_type": "code",
   "execution_count": null,
   "metadata": {},
   "outputs": [],
   "source": []
  },
  {
   "cell_type": "code",
   "execution_count": null,
   "metadata": {},
   "outputs": [],
   "source": []
  },
  {
   "cell_type": "code",
   "execution_count": null,
   "metadata": {},
   "outputs": [],
   "source": []
  },
  {
   "cell_type": "code",
   "execution_count": null,
   "metadata": {},
   "outputs": [],
   "source": []
  }
 ],
 "metadata": {
  "kernelspec": {
   "display_name": "Python 3",
   "language": "python",
   "name": "python3"
  },
  "language_info": {
   "codemirror_mode": {
    "name": "ipython",
    "version": 3
   },
   "file_extension": ".py",
   "mimetype": "text/x-python",
   "name": "python",
   "nbconvert_exporter": "python",
   "pygments_lexer": "ipython3",
   "version": "3.6.8"
  }
 },
 "nbformat": 4,
 "nbformat_minor": 2
}
